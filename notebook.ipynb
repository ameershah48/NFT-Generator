{
 "cells": [
  {
   "cell_type": "code",
   "execution_count": null,
   "id": "2656014e",
   "metadata": {},
   "outputs": [],
   "source": [
    "pip install -r requirements.txt"
   ]
  },
  {
   "cell_type": "code",
   "execution_count": 12,
   "id": "2c21e1ec",
   "metadata": {},
   "outputs": [
    {
     "name": "stdout",
     "output_type": "stream",
     "text": [
      "Posibble outputs:  7\n",
      "Enter outputs: 6\n",
      "Saving 0.png\n",
      "Saving 1.png\n",
      "Saving 2.png\n",
      "Saving 3.png\n",
      "Saving 4.png\n",
      "Saving 5.png\n",
      "Generate completed.\n"
     ]
    }
   ],
   "source": [
    "run generator.py"
   ]
  }
 ],
 "metadata": {
  "kernelspec": {
   "display_name": "Python 3",
   "language": "python",
   "name": "python3"
  },
  "language_info": {
   "codemirror_mode": {
    "name": "ipython",
    "version": 3
   },
   "file_extension": ".py",
   "mimetype": "text/x-python",
   "name": "python",
   "nbconvert_exporter": "python",
   "pygments_lexer": "ipython3",
   "version": "3.8.8"
  }
 },
 "nbformat": 4,
 "nbformat_minor": 5
}
